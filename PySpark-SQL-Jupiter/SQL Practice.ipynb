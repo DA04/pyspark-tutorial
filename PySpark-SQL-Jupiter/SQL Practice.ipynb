{
 "cells": [
  {
   "cell_type": "code",
   "execution_count": 1,
   "id": "f3e1b5f1",
   "metadata": {},
   "outputs": [],
   "source": [
    "from pyspark.sql import SparkSession\n",
    "from pyspark.sql.utils import AnalysisException\n",
    "import pyspark.sql.functions as F\n",
    "import pyspark.sql.types as T\n",
    "spark = SparkSession.builder.getOrCreate()"
   ]
  },
  {
   "cell_type": "code",
   "execution_count": 2,
   "id": "2c6d903c",
   "metadata": {},
   "outputs": [],
   "source": [
    "path_dir = './data_source/data_2014/2014'\n",
    "bb_2014 = spark.read.csv(path_dir, header=True, inferSchema =True)"
   ]
  },
  {
   "cell_type": "code",
   "execution_count": 12,
   "id": "528d1565",
   "metadata": {},
   "outputs": [
    {
     "name": "stdout",
     "output_type": "stream",
     "text": [
      "+----------+--------------+--------------------+--------------+-------+------------------+-----------+------------------+\n",
      "|      date| serial_number|               model|capacity_bytes|failure|smart_1_normalized|smart_1_raw|smart_2_normalized|\n",
      "+----------+--------------+--------------------+--------------+-------+------------------+-----------+------------------+\n",
      "|2014-12-16|MJ0351YNG9Z0XA|Hitachi HDS5C3030...| 3000592982016|      0|               100|          0|               135|\n",
      "|2014-12-16|MJ0351YNG9WJSA|Hitachi HDS5C3030...| 3000592982016|      0|               100|          0|               136|\n",
      "|2014-12-16|MJ0351YNG9Z7LA|Hitachi HDS5C3030...| 3000592982016|      0|               100|          0|               136|\n",
      "|2014-12-16|MJ0351YNGABYAA|Hitachi HDS5C3030...| 3000592982016|      0|               100|          0|               136|\n",
      "|2014-12-16|PL2331LAGN2YTJ|HGST HMS5C4040BLE640| 4000787030016|      0|               100|          0|               134|\n",
      "+----------+--------------+--------------------+--------------+-------+------------------+-----------+------------------+\n",
      "only showing top 5 rows\n",
      "\n"
     ]
    }
   ],
   "source": [
    "bb_2014.select(bb_2014.columns[:8]).show(5)"
   ]
  },
  {
   "cell_type": "code",
   "execution_count": 13,
   "id": "2c89fc10",
   "metadata": {},
   "outputs": [],
   "source": [
    "bb_2014.createOrReplaceTempView(\"bb_2014\")"
   ]
  },
  {
   "cell_type": "code",
   "execution_count": 14,
   "id": "4c682929",
   "metadata": {},
   "outputs": [
    {
     "name": "stdout",
     "output_type": "stream",
     "text": [
      "+---------------+\n",
      "|  serial_number|\n",
      "+---------------+\n",
      "|WD-WCAV5V395871|\n",
      "|WD-WCC4N0919016|\n",
      "| PL1310LAG0NBWA|\n",
      "|       6XW00HYZ|\n",
      "|       S1F0B4PP|\n",
      "+---------------+\n",
      "only showing top 5 rows\n",
      "\n"
     ]
    }
   ],
   "source": [
    "spark.sql(\"select serial_number from bb_2014 where failure=1\").show(5)"
   ]
  },
  {
   "cell_type": "code",
   "execution_count": 15,
   "id": "51c0387d",
   "metadata": {},
   "outputs": [
    {
     "name": "stdout",
     "output_type": "stream",
     "text": [
      "+---------------+\n",
      "|  serial_number|\n",
      "+---------------+\n",
      "|WD-WCAV5V395871|\n",
      "|WD-WCC4N0919016|\n",
      "| PL1310LAG0NBWA|\n",
      "|       6XW00HYZ|\n",
      "|       S1F0B4PP|\n",
      "+---------------+\n",
      "only showing top 5 rows\n",
      "\n"
     ]
    }
   ],
   "source": [
    "bb_2014.where(\"failure=1\").select(F.col('serial_number')).show(5)"
   ]
  },
  {
   "cell_type": "code",
   "execution_count": 16,
   "id": "2257eefa",
   "metadata": {},
   "outputs": [
    {
     "name": "stdout",
     "output_type": "stream",
     "text": [
      "+--------------------+------------------+-------------------+\n",
      "|               model|            min_GB|             max_GB|\n",
      "+--------------------+------------------+-------------------+\n",
      "|         ST4000DM000| 3726.023277282715| 5.59103270818843E8|\n",
      "|HGST HMS5C4040ALE640|1048.0001196861267|9.997684600476837E7|\n",
      "|        WDC WD60EFRX|  5589.02986907959|   5589.02986907959|\n",
      "|         ST6000DX000|  5589.02986907959|   5589.02986907959|\n",
      "|        WDC WD40EFRX| 3726.023277282715|  3726.023277282715|\n",
      "+--------------------+------------------+-------------------+\n",
      "only showing top 5 rows\n",
      "\n"
     ]
    }
   ],
   "source": [
    "spark.sql(\"\"\"select model, min(capacity_bytes/pow(1024,3)) min_GB,\n",
    "                           max(capacity_bytes/pow(1024,3)) max_GB\n",
    "                           from bb_2014 group by 1 order by 3 desc\"\"\").show(5)"
   ]
  },
  {
   "cell_type": "code",
   "execution_count": null,
   "id": "b43ca40f",
   "metadata": {},
   "outputs": [],
   "source": []
  },
  {
   "cell_type": "code",
   "execution_count": 17,
   "id": "a1ac4ce3",
   "metadata": {},
   "outputs": [
    {
     "name": "stdout",
     "output_type": "stream",
     "text": [
      "+--------------------+------------------+-------------------+\n",
      "|               model|            min_GB|             max_GB|\n",
      "+--------------------+------------------+-------------------+\n",
      "|         ST4000DM000| 3726.023277282715| 5.59103270818843E8|\n",
      "|HGST HMS5C4040ALE640|1048.0001196861267|9.997684600476837E7|\n",
      "|        WDC WD60EFRX|  5589.02986907959|   5589.02986907959|\n",
      "|         ST6000DX000|  5589.02986907959|   5589.02986907959|\n",
      "|        WDC WD40EFRX| 3726.023277282715|  3726.023277282715|\n",
      "+--------------------+------------------+-------------------+\n",
      "only showing top 5 rows\n",
      "\n"
     ]
    }
   ],
   "source": [
    "bb_2014.groupby(F.col('model')).agg(F.min(F.col('capacity_bytes')/F.pow(F.lit(1024),3)).alias('min_GB'),\n",
    "                                   F.max(F.col('capacity_bytes')/F.pow(F.lit(1024),3)).alias('max_GB')).orderBy(F.col('max_GB'), ascending=False).show(5)"
   ]
  }
 ],
 "metadata": {
  "kernelspec": {
   "display_name": "Python 3 (ipykernel)",
   "language": "python",
   "name": "python3"
  },
  "language_info": {
   "codemirror_mode": {
    "name": "ipython",
    "version": 3
   },
   "file_extension": ".py",
   "mimetype": "text/x-python",
   "name": "python",
   "nbconvert_exporter": "python",
   "pygments_lexer": "ipython3",
   "version": "3.9.7"
  }
 },
 "nbformat": 4,
 "nbformat_minor": 5
}
